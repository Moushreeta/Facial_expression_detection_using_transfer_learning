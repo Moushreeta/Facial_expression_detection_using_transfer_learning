{
 "cells": [
  {
   "cell_type": "code",
   "execution_count": 85,
   "id": "50be6a58-f1c2-4fd6-99a5-45b85df873b5",
   "metadata": {},
   "outputs": [],
   "source": [
    "import cv2"
   ]
  },
  {
   "cell_type": "code",
   "execution_count": 86,
   "id": "f30a57e2-336d-40fd-86cb-fd6bb2545598",
   "metadata": {},
   "outputs": [],
   "source": [
    "import matplotlib.pyplot as plt\n",
    "%matplotlib inline"
   ]
  },
  {
   "cell_type": "code",
   "execution_count": 54,
   "id": "89da6c1d-8feb-4da7-90fb-0545c76c5db9",
   "metadata": {},
   "outputs": [],
   "source": [
    "import numpy as np\n",
    "import tensorflow as tf\n",
    "from tensorflow.keras.applications import VGG16\n",
    "from tensorflow.keras.layers import Dense, GlobalAveragePooling2D\n",
    "from tensorflow.keras.models import Model\n",
    "from sklearn.metrics import classification_report, confusion_matrix\n",
    "import matplotlib.pyplot as plt\n"
   ]
  },
  {
   "cell_type": "code",
   "execution_count": 55,
   "id": "fec0fa24-ba19-4721-be87-c04421ade4e8",
   "metadata": {},
   "outputs": [],
   "source": [
    "fer2013=\"C:/RESEARCH/FER2013NEW\""
   ]
  },
  {
   "cell_type": "code",
   "execution_count": null,
   "id": "59fec625-6056-44f3-a1f5-ba3968c67eda",
   "metadata": {},
   "outputs": [],
   "source": []
  },
  {
   "cell_type": "code",
   "execution_count": 82,
   "id": "ea9bf030-6f3d-4be7-a7db-0bf04f1db89d",
   "metadata": {},
   "outputs": [
    {
     "data": {
      "text/plain": [
       "'\\n#import os\\n#import cv2\\n#import numpy as np\\n#from sklearn.model_selection import train_test_split\\n#from tensorflow.keras.utils import to_categorical\\n\\n# Define the paths to your dataset\\n#data_directory = \"C:/RESEARCH/FER2013NEW/train\"\\n#emotion_labels = [\"Angry\", \"Disgust\", \"Fear\", \"Happy\", \"Sad\", \"Surprise\", \"Neutral\"]\\n#num_classes = len(emotion_labels)\\n\\n# Load and preprocess data\\n#X_data = []\\n#y_labels = []\\n\\n#for emotion_label in emotion_labels:\\n#    emotion_directory = os.path.join(data_directory, emotion_label)\\n    \\n #   for filename in os.listdir(emotion_directory):\\n  #      img_path = os.path.join(emotion_directory, filename)\\n  #      img = cv2.imread(img_path, cv2.IMREAD_GRAYSCALE)  # Read the image in grayscale\\n        \\n        # Resize the image to a consistent size (e.g., 48x48)\\n        img = cv2.resize(img, (48, 48))\\n        \\n        X_data.append(img)\\n        y_labels.append(emotion_labels.index(emotion_label))\\n\\nX_data = np.array(X_data)\\ny_labels = np.array(y_labels)\\n\\n# Normalize pixel values to [0, 1]\\n#X_data = X_data / 255.0\\n\\n# Convert labels to one-hot encoded format\\n#y_labels = to_categorical(y_labels, num_classes=num_classes)\\n\\n# Perform train-test split\\n#X_train, X_test, y_train, y_test = train_test_split(X_data, y_labels, test_size=0.2, random_state=42)\\n'"
      ]
     },
     "execution_count": 82,
     "metadata": {},
     "output_type": "execute_result"
    }
   ],
   "source": [
    "'''\n",
    "#import os\n",
    "#import cv2\n",
    "#import numpy as np\n",
    "#from sklearn.model_selection import train_test_split\n",
    "#from tensorflow.keras.utils import to_categorical\n",
    "\n",
    "# Define the paths to your dataset\n",
    "#data_directory = \"C:/RESEARCH/FER2013NEW/train\"\n",
    "#emotion_labels = [\"Angry\", \"Disgust\", \"Fear\", \"Happy\", \"Sad\", \"Surprise\", \"Neutral\"]\n",
    "#num_classes = len(emotion_labels)\n",
    "\n",
    "# Load and preprocess data\n",
    "#X_data = []\n",
    "#y_labels = []\n",
    "\n",
    "#for emotion_label in emotion_labels:\n",
    "#    emotion_directory = os.path.join(data_directory, emotion_label)\n",
    "    \n",
    " #   for filename in os.listdir(emotion_directory):\n",
    "  #      img_path = os.path.join(emotion_directory, filename)\n",
    "  #      img = cv2.imread(img_path, cv2.IMREAD_GRAYSCALE)  # Read the image in grayscale\n",
    "        \n",
    "        # Resize the image to a consistent size (e.g., 48x48)\n",
    "        img = cv2.resize(img, (48, 48))\n",
    "        \n",
    "        X_data.append(img)\n",
    "        y_labels.append(emotion_labels.index(emotion_label))\n",
    "\n",
    "X_data = np.array(X_data)\n",
    "y_labels = np.array(y_labels)\n",
    "\n",
    "# Normalize pixel values to [0, 1]\n",
    "#X_data = X_data / 255.0\n",
    "\n",
    "# Convert labels to one-hot encoded format\n",
    "#y_labels = to_categorical(y_labels, num_classes=num_classes)\n",
    "\n",
    "# Perform train-test split\n",
    "#X_train, X_test, y_train, y_test = train_test_split(X_data, y_labels, test_size=0.2, random_state=42)\n",
    "'''"
   ]
  },
  {
   "cell_type": "code",
   "execution_count": 83,
   "id": "c55b624f-8d0b-4b23-88cf-7e2ce2ef6576",
   "metadata": {},
   "outputs": [
    {
     "data": {
      "text/plain": [
       "'\\nimport os\\nimport cv2\\nimport numpy as np\\nfrom sklearn.model_selection import train_test_split\\nfrom tensorflow.keras.utils import to_categorical\\n\\n# Define the paths to your dataset\\ndata_directory = \"C:/RESEARCH/FER2013NEW/test\"\\nemotion_labels = [\"Angry\", \"Disgust\", \"Fear\", \"Happy\", \"Sad\", \"Surprise\", \"Neutral\"]\\nnum_classes = len(emotion_labels)\\n\\n# Load and preprocess data\\nX_data = []\\ny_labels = []\\n\\nfor emotion_label in emotion_labels:\\n    emotion_directory = os.path.join(data_directory, emotion_label)\\n    \\n    for filename in os.listdir(emotion_directory):\\n        img_path = os.path.join(emotion_directory, filename)\\n        img = cv2.imread(img_path, cv2.IMREAD_GRAYSCALE)  # Read the image in grayscale\\n        \\n        # Resize the image to a consistent size (e.g., 48x48)\\n        img = cv2.resize(img, (48, 48))\\n        \\n        X_data.append(img)\\n        y_labels.append(emotion_labels.index(emotion_label))\\n\\nX_data = np.array(X_data)\\ny_labels = np.array(y_labels)\\n'"
      ]
     },
     "execution_count": 83,
     "metadata": {},
     "output_type": "execute_result"
    }
   ],
   "source": [
    "'''\n",
    "import os\n",
    "import cv2\n",
    "import numpy as np\n",
    "from sklearn.model_selection import train_test_split\n",
    "from tensorflow.keras.utils import to_categorical\n",
    "\n",
    "# Define the paths to your dataset\n",
    "data_directory = \"C:/RESEARCH/FER2013NEW/test\"\n",
    "emotion_labels = [\"Angry\", \"Disgust\", \"Fear\", \"Happy\", \"Sad\", \"Surprise\", \"Neutral\"]\n",
    "num_classes = len(emotion_labels)\n",
    "\n",
    "# Load and preprocess data\n",
    "X_data = []\n",
    "y_labels = []\n",
    "\n",
    "for emotion_label in emotion_labels:\n",
    "    emotion_directory = os.path.join(data_directory, emotion_label)\n",
    "    \n",
    "    for filename in os.listdir(emotion_directory):\n",
    "        img_path = os.path.join(emotion_directory, filename)\n",
    "        img = cv2.imread(img_path, cv2.IMREAD_GRAYSCALE)  # Read the image in grayscale\n",
    "        \n",
    "        # Resize the image to a consistent size (e.g., 48x48)\n",
    "        img = cv2.resize(img, (48, 48))\n",
    "        \n",
    "        X_data.append(img)\n",
    "        y_labels.append(emotion_labels.index(emotion_label))\n",
    "\n",
    "X_data = np.array(X_data)\n",
    "y_labels = np.array(y_labels)\n",
    "'''"
   ]
  },
  {
   "cell_type": "code",
   "execution_count": 84,
   "id": "b3569830-48c1-47e4-a9f9-e0fca3f28344",
   "metadata": {},
   "outputs": [
    {
     "data": {
      "text/plain": [
       "\"import numpy as np\\nimport tensorflow as tf\\nfrom tensorflow.keras.preprocessing.image import ImageDataGenerator\\nfrom tensorflow.keras.applications import VGG16\\nfrom tensorflow.keras.layers import Dense, Flatten\\nfrom sklearn.model_selection import train_test_split\\nfrom sklearn.metrics import classification_report, confusion_matrix\\nimport matplotlib.pyplot as plt\\n\\n\\n\\n# Perform train-test split\\nX_train, X_test, y_train, y_test = train_test_split(X_data, y_labels, test_size=0.2, random_state=42)\\n\\n# Preprocess images\\nX_train = X_train / 255.0\\nX_test = X_test / 255.0\\nX_train = X_train.reshape(X_train.shape[0], 48, 48,3)\\nX_test = X_test.reshape(X_test.shape[0], 48, 48,3)\\n\\n# Data augmentation\\ndata_augmentation = ImageDataGenerator(rotation_range=15, width_shift_range=0.1, height_shift_range=0.1, horizontal_flip=True)\\n\\n# Load pre-trained VGG16 model\\nbase_model = VGG16(weights='imagenet', include_top=False, input_shape=(48, 48))\\n\\n# Freeze layers\\nfor layer in base_model.layers:\\n    layer.trainable = False\\n\\n# Build your own classification layers\\nmodel = tf.keras.Sequential([\\n    base_model,\\n    Flatten(),\\n    Dense(128, activation='relu'),\\n    Dense(7, activation='softmax')  # 7 emotions\\n])\\n\\n# Compile the model\\nmodel.compile(optimizer='adam', loss='categorical_crossentropy', metrics=['accuracy'])\\n\\n# Train the model\\nbatch_size = 32\\nepochs = 10\\n\\nhistory = model.fit(data_augmentation.flow(X_train, y_train, batch_size=batch_size),\\n                    steps_per_epoch=len(X_train) // batch_size,\\n                    epochs=epochs,\\n                    validation_data=(X_test, y_test))\\n\\n# Evaluate the model\\ny_pred = model.predict(X_test)\\ny_pred_classes = np.argmax(y_pred, axis=1)\\ny_true = np.argmax(y_test, axis=1)\\n\\nprint(classification_report(y_true, y_pred_classes))\\nconf_matrix = confusion_matrix(y_true, y_pred_classes)\\nprint(conf_matrix)\\n\\n# Plot accuracy and loss curves\\nplt.figure(figsize=(12, 4))\\nplt.subplot(1, 2, 1)\\nplt.plot(history.history['accuracy'], label='accuracy')\\nplt.plot(history.history['val_accuracy'], label='val_accuracy')\\nplt.legend()\\nplt.title('Accuracy')\\n\\nplt.subplot(1, 2, 2)\\nplt.plot(history.history['loss'], label='loss')\\nplt.plot(history.history['val_loss'], label='val_loss')\\nplt.legend()\\nplt.title('Loss')\\n\\nplt.show()\\n\""
      ]
     },
     "execution_count": 84,
     "metadata": {},
     "output_type": "execute_result"
    }
   ],
   "source": [
    "'''import numpy as np\n",
    "import tensorflow as tf\n",
    "from tensorflow.keras.preprocessing.image import ImageDataGenerator\n",
    "from tensorflow.keras.applications import VGG16\n",
    "from tensorflow.keras.layers import Dense, Flatten\n",
    "from sklearn.model_selection import train_test_split\n",
    "from sklearn.metrics import classification_report, confusion_matrix\n",
    "import matplotlib.pyplot as plt\n",
    "\n",
    "\n",
    "\n",
    "# Perform train-test split\n",
    "X_train, X_test, y_train, y_test = train_test_split(X_data, y_labels, test_size=0.2, random_state=42)\n",
    "\n",
    "# Preprocess images\n",
    "X_train = X_train / 255.0\n",
    "X_test = X_test / 255.0\n",
    "X_train = X_train.reshape(X_train.shape[0], 48, 48,3)\n",
    "X_test = X_test.reshape(X_test.shape[0], 48, 48,3)\n",
    "\n",
    "# Data augmentation\n",
    "data_augmentation = ImageDataGenerator(rotation_range=15, width_shift_range=0.1, height_shift_range=0.1, horizontal_flip=True)\n",
    "\n",
    "# Load pre-trained VGG16 model\n",
    "base_model = VGG16(weights='imagenet', include_top=False, input_shape=(48, 48))\n",
    "\n",
    "# Freeze layers\n",
    "for layer in base_model.layers:\n",
    "    layer.trainable = False\n",
    "\n",
    "# Build your own classification layers\n",
    "model = tf.keras.Sequential([\n",
    "    base_model,\n",
    "    Flatten(),\n",
    "    Dense(128, activation='relu'),\n",
    "    Dense(7, activation='softmax')  # 7 emotions\n",
    "])\n",
    "\n",
    "# Compile the model\n",
    "model.compile(optimizer='adam', loss='categorical_crossentropy', metrics=['accuracy'])\n",
    "\n",
    "# Train the model\n",
    "batch_size = 32\n",
    "epochs = 10\n",
    "\n",
    "history = model.fit(data_augmentation.flow(X_train, y_train, batch_size=batch_size),\n",
    "                    steps_per_epoch=len(X_train) // batch_size,\n",
    "                    epochs=epochs,\n",
    "                    validation_data=(X_test, y_test))\n",
    "\n",
    "# Evaluate the model\n",
    "y_pred = model.predict(X_test)\n",
    "y_pred_classes = np.argmax(y_pred, axis=1)\n",
    "y_true = np.argmax(y_test, axis=1)\n",
    "\n",
    "print(classification_report(y_true, y_pred_classes))\n",
    "conf_matrix = confusion_matrix(y_true, y_pred_classes)\n",
    "print(conf_matrix)\n",
    "\n",
    "# Plot accuracy and loss curves\n",
    "plt.figure(figsize=(12, 4))\n",
    "plt.subplot(1, 2, 1)\n",
    "plt.plot(history.history['accuracy'], label='accuracy')\n",
    "plt.plot(history.history['val_accuracy'], label='val_accuracy')\n",
    "plt.legend()\n",
    "plt.title('Accuracy')\n",
    "\n",
    "plt.subplot(1, 2, 2)\n",
    "plt.plot(history.history['loss'], label='loss')\n",
    "plt.plot(history.history['val_loss'], label='val_loss')\n",
    "plt.legend()\n",
    "plt.title('Loss')\n",
    "\n",
    "plt.show()\n",
    "'''"
   ]
  },
  {
   "cell_type": "code",
   "execution_count": 89,
   "id": "046728f6-63a4-47f6-ba07-ab6872693e2c",
   "metadata": {},
   "outputs": [],
   "source": [
    "import numpy as np\n",
    "from sklearn.model_selection import train_test_split\n",
    "from tensorflow.keras.utils import to_categorical\n",
    "import os"
   ]
  },
  {
   "cell_type": "code",
   "execution_count": 104,
   "id": "b4410bce-a678-4db5-aae9-a7a34fc8d31f",
   "metadata": {},
   "outputs": [],
   "source": [
    "train_folder=\"C:/RESEARCH/FER2013NEW/train\"\n",
    "test_folder=\"C:/RESEARCH/FER2013NEW/test\""
   ]
  },
  {
   "cell_type": "code",
   "execution_count": 149,
   "id": "268c92d8-24e1-4ce3-ac31-335547093895",
   "metadata": {},
   "outputs": [],
   "source": [
    "emotion_labels = [\"Angry\", \"Disgust\", \"Fear\", \"Happy\", \"Sad\", \"Surprise\", \"Neutral\"]  # List of emotion labels\n",
    "num_classes = len(emotion_labels)"
   ]
  },
  {
   "cell_type": "code",
   "execution_count": 150,
   "id": "4114d5a7-4caa-4ab6-ba68-59dc661934cd",
   "metadata": {},
   "outputs": [
    {
     "data": {
      "text/plain": [
       "7"
      ]
     },
     "execution_count": 150,
     "metadata": {},
     "output_type": "execute_result"
    }
   ],
   "source": [
    "num_classes"
   ]
  },
  {
   "cell_type": "code",
   "execution_count": 168,
   "id": "5a6cb97e-e43a-45dc-adc1-97f821c7a20b",
   "metadata": {},
   "outputs": [],
   "source": [
    "def load_images_from_folder(folder):\n",
    "    images = []  # Create an empty list to store images\n",
    "    labels = []  # Create an empty list to store labels\n",
    "    for label_idx, emotion_label in enumerate(emotion_labels):\n",
    "        # Construct the path to the folder containing images for the current emotion\n",
    "        emotion_folder = os.path.join(folder, emotion_label)\n",
    "        for filename in os.listdir(emotion_folder):\n",
    "            # Construct the path to each image and load it using OpenCV\n",
    "            img_path = os.path.join(emotion_folder, filename)\n",
    "            img = cv2.imread(img_path, cv2.IMREAD_GRAYSCALE)\n",
    "            img = cv2.resize(img, (48, 48))  # Resize the image to a fixed size\n",
    "            img_rgb = np.stack((img,) * 3, axis=-1)\n",
    "            images.append(img_rgb)\n",
    "            labels.append(label_idx)  # Add the corresponding label index to the list\n",
    "    return images, labels"
   ]
  },
  {
   "cell_type": "code",
   "execution_count": 102,
   "id": "440e59d0-e9fd-42fd-96d9-ca06ddb292f9",
   "metadata": {},
   "outputs": [],
   "source": [
    "#train_data=\"C:/RESEARCH/FER2013NEW/train/Training_50580\""
   ]
  },
  {
   "cell_type": "code",
   "execution_count": 99,
   "id": "7f2ce228-e46f-4450-807e-0eae5cd05f9f",
   "metadata": {},
   "outputs": [],
   "source": [
    "t=cv2.imread(\"C:/RESEARCH/FER2013NEW/train/happy/Training_50580.jpg\")"
   ]
  },
  {
   "cell_type": "code",
   "execution_count": 100,
   "id": "1b63d67a-945d-4748-b57f-f7eda13c092e",
   "metadata": {},
   "outputs": [
    {
     "data": {
      "text/plain": [
       "<matplotlib.image.AxesImage at 0x2d43f5b6c40>"
      ]
     },
     "execution_count": 100,
     "metadata": {},
     "output_type": "execute_result"
    },
    {
     "data": {
      "image/png": "[encoded data removed]",
      "text/plain": [
       "<Figure size 432x288 with 1 Axes>"
      ]
     },
     "metadata": {
      "needs_background": "light"
     },
     "output_type": "display_data"
    }
   ],
   "source": [
    "plt.imshow(t)"
   ]
  },
  {
   "cell_type": "code",
   "execution_count": 101,
   "id": "3f9f8fde-7c96-4246-8888-2dbf2fc6e678",
   "metadata": {},
   "outputs": [
    {
     "data": {
      "text/plain": [
       "(48, 48, 3)"
      ]
     },
     "execution_count": 101,
     "metadata": {},
     "output_type": "execute_result"
    }
   ],
   "source": [
    "t.shape"
   ]
  },
  {
   "cell_type": "code",
   "execution_count": 169,
   "id": "6d018131-d709-4aab-85e2-129ed488a0a5",
   "metadata": {},
   "outputs": [],
   "source": [
    "# Load and Preprocess Data\n",
    "X_train, y_train = load_images_from_folder(train_folder)  # Load and preprocess training data\n",
    "X_test, y_test = load_images_from_folder(test_folder)"
   ]
  },
  {
   "cell_type": "code",
   "execution_count": 170,
   "id": "b8744d45-c569-46b4-a519-14674c57e060",
   "metadata": {},
   "outputs": [],
   "source": [
    "X_train = np.array(X_train)  # Convert the list of images to a NumPy array\n",
    "y_train = np.array(y_train)  # Convert the list of labels to a NumPy array\n",
    "X_test = np.array(X_test)  # Convert the list of images to a NumPy array\n",
    "y_test = np.array(y_test) "
   ]
  },
  {
   "cell_type": "code",
   "execution_count": 171,
   "id": "b4350897-a768-4cd2-9796-a8ab1cc4e700",
   "metadata": {},
   "outputs": [
    {
     "data": {
      "text/plain": [
       "(28709, 48, 48, 3)"
      ]
     },
     "execution_count": 171,
     "metadata": {},
     "output_type": "execute_result"
    }
   ],
   "source": [
    "X_train.shape"
   ]
  },
  {
   "cell_type": "code",
   "execution_count": 172,
   "id": "0d94a8c7-38f2-48df-9b3d-cfeeefb9d174",
   "metadata": {},
   "outputs": [
    {
     "data": {
      "text/plain": [
       "(28709,)"
      ]
     },
     "execution_count": 172,
     "metadata": {},
     "output_type": "execute_result"
    }
   ],
   "source": [
    "y_train.shape"
   ]
  },
  {
   "cell_type": "code",
   "execution_count": 120,
   "id": "c693c0fe-5275-498b-9b46-f72fc030c47d",
   "metadata": {},
   "outputs": [],
   "source": [
    "#X_test"
   ]
  },
  {
   "cell_type": "code",
   "execution_count": 173,
   "id": "3dc19364-0b9a-4ecd-808f-73320d354339",
   "metadata": {},
   "outputs": [],
   "source": [
    "y_train_cat=to_categorical(y_train,num_classes=num_classes)"
   ]
  },
  {
   "cell_type": "code",
   "execution_count": 174,
   "id": "b3ba16dc-8b9e-49e5-a2d4-b1f7a217a65f",
   "metadata": {},
   "outputs": [
    {
     "data": {
      "text/plain": [
       "array([[1., 0., 0., ..., 0., 0., 0.],\n",
       "       [1., 0., 0., ..., 0., 0., 0.],\n",
       "       [1., 0., 0., ..., 0., 0., 0.],\n",
       "       ...,\n",
       "       [0., 0., 0., ..., 0., 0., 1.],\n",
       "       [0., 0., 0., ..., 0., 0., 1.],\n",
       "       [0., 0., 0., ..., 0., 0., 1.]], dtype=float32)"
      ]
     },
     "execution_count": 174,
     "metadata": {},
     "output_type": "execute_result"
    }
   ],
   "source": [
    "y_train_cat"
   ]
  },
  {
   "cell_type": "code",
   "execution_count": 175,
   "id": "f7da9f34-fa3a-43da-bd0c-77cae5d1c6f6",
   "metadata": {},
   "outputs": [],
   "source": [
    "y_test_cat=to_categorical(y_test,num_classes=num_classes)"
   ]
  },
  {
   "cell_type": "code",
   "execution_count": 176,
   "id": "19e7d28d-4db2-4471-8046-0a3a728ac51d",
   "metadata": {},
   "outputs": [
    {
     "data": {
      "text/plain": [
       "array([[1., 0., 0., ..., 0., 0., 0.],\n",
       "       [1., 0., 0., ..., 0., 0., 0.],\n",
       "       [1., 0., 0., ..., 0., 0., 0.],\n",
       "       ...,\n",
       "       [0., 0., 0., ..., 0., 0., 1.],\n",
       "       [0., 0., 0., ..., 0., 0., 1.],\n",
       "       [0., 0., 0., ..., 0., 0., 1.]], dtype=float32)"
      ]
     },
     "execution_count": 176,
     "metadata": {},
     "output_type": "execute_result"
    }
   ],
   "source": [
    "y_test_cat"
   ]
  },
  {
   "cell_type": "code",
   "execution_count": 177,
   "id": "c36abc82-7a6e-4dd5-88c2-f023f5c2b9d1",
   "metadata": {},
   "outputs": [
    {
     "data": {
      "text/plain": [
       "(28709, 7)"
      ]
     },
     "execution_count": 177,
     "metadata": {},
     "output_type": "execute_result"
    }
   ],
   "source": [
    "y_train_cat.shape"
   ]
  },
  {
   "cell_type": "code",
   "execution_count": 178,
   "id": "da3243ea-d88d-497c-9f53-c20bfcb4ea40",
   "metadata": {},
   "outputs": [
    {
     "data": {
      "text/plain": [
       "(7178, 7)"
      ]
     },
     "execution_count": 178,
     "metadata": {},
     "output_type": "execute_result"
    }
   ],
   "source": [
    "y_test_cat.shape"
   ]
  },
  {
   "cell_type": "code",
   "execution_count": 139,
   "id": "eb86ba4b-5dfa-49bc-8546-ce1b15268253",
   "metadata": {},
   "outputs": [],
   "source": [
    "#normalize pixel values"
   ]
  },
  {
   "cell_type": "code",
   "execution_count": 179,
   "id": "6964a000-0709-4e0f-8d2c-5bb7587d69b3",
   "metadata": {},
   "outputs": [],
   "source": [
    "X_train=X_train/255\n",
    "X_test=X_test/255"
   ]
  },
  {
   "cell_type": "code",
   "execution_count": 142,
   "id": "34d6a4fb-dcb1-42bf-ba54-0e8d9a803d69",
   "metadata": {},
   "outputs": [],
   "source": [
    "#X_train"
   ]
  },
  {
   "cell_type": "code",
   "execution_count": 161,
   "id": "8c7bade5-a66d-48a8-8c74-c307c88fbed7",
   "metadata": {},
   "outputs": [],
   "source": [
    "# transfer learning\n",
    "base_model = VGG16(weights='imagenet', include_top=False, input_shape=(48, 48, 3))"
   ]
  },
  {
   "cell_type": "code",
   "execution_count": 162,
   "id": "7e95d5ea-451e-470e-b038-984c579da0b5",
   "metadata": {},
   "outputs": [],
   "source": [
    "# Add custom classification layers on top of the pre-trained base\n",
    "x = base_model.output\n",
    "x = GlobalAveragePooling2D()(x)\n",
    "x = Dense(128, activation='relu')(x)\n",
    "predictions = Dense(num_classes, activation='softmax')(x)base_model = VGG16(weights='imagenet', include_top=False, input_shape=(48, 48, 3))"
   ]
  },
  {
   "cell_type": "code",
   "execution_count": 163,
   "id": "5fbcc27c-c152-4003-9748-74d2f980b02b",
   "metadata": {},
   "outputs": [],
   "source": [
    "# Create the final model\n",
    "model = Model(inputs=base_model.input, outputs=predictions)"
   ]
  },
  {
   "cell_type": "code",
   "execution_count": 164,
   "id": "6d9e0fcf-dc4b-46e2-8cc8-4d26cbb2035b",
   "metadata": {},
   "outputs": [],
   "source": [
    "# Freeze layers in the pre-trained base model\n",
    "for layer in base_model.layers:\n",
    "    layer.trainable = False"
   ]
  },
  {
   "cell_type": "code",
   "execution_count": 165,
   "id": "a9381bdf-67d0-4c4e-87f3-040382bb0d3e",
   "metadata": {},
   "outputs": [],
   "source": [
    "# Compile the model\n",
    "model.compile(optimizer='adam', loss='categorical_crossentropy', metrics=['accuracy'])\n"
   ]
  },
  {
   "cell_type": "code",
   "execution_count": 180,
   "id": "49c637d6-c849-4962-ae95-cb3dec72762a",
   "metadata": {},
   "outputs": [
    {
     "name": "stdout",
     "output_type": "stream",
     "text": [
      "Epoch 1/10\n",
      "898/898 [==============================] - 763s 846ms/step - loss: 1.6169 - accuracy: 0.3646 - val_loss: 1.5609 - val_accuracy: 0.3969\n",
      "Epoch 2/10\n",
      "898/898 [==============================] - 646s 719ms/step - loss: 1.5324 - accuracy: 0.4088 - val_loss: 1.5271 - val_accuracy: 0.4028\n",
      "Epoch 3/10\n",
      "898/898 [==============================] - 642s 715ms/step - loss: 1.4940 - accuracy: 0.4266 - val_loss: 1.5247 - val_accuracy: 0.4115\n",
      "Epoch 4/10\n",
      "898/898 [==============================] - 655s 730ms/step - loss: 1.4629 - accuracy: 0.4400 - val_loss: 1.4825 - val_accuracy: 0.4266\n",
      "Epoch 5/10\n",
      "898/898 [==============================] - 655s 730ms/step - loss: 1.4310 - accuracy: 0.4530 - val_loss: 1.4863 - val_accuracy: 0.4207\n",
      "Epoch 6/10\n",
      "898/898 [==============================] - 644s 717ms/step - loss: 1.4059 - accuracy: 0.4642 - val_loss: 1.4814 - val_accuracy: 0.4238\n",
      "Epoch 7/10\n",
      "898/898 [==============================] - 632s 704ms/step - loss: 1.3761 - accuracy: 0.4802 - val_loss: 1.4906 - val_accuracy: 0.4259\n",
      "Epoch 8/10\n",
      "898/898 [==============================] - 662s 737ms/step - loss: 1.3490 - accuracy: 0.4900 - val_loss: 1.4847 - val_accuracy: 0.4291\n",
      "Epoch 9/10\n",
      "898/898 [==============================] - 743s 827ms/step - loss: 1.3253 - accuracy: 0.5018 - val_loss: 1.4731 - val_accuracy: 0.4368\n",
      "Epoch 10/10\n",
      "898/898 [==============================] - ETA: 0s - loss: 1.2976 - accuracy: 0.5121"
     ]
    },
    {
     "name": "stderr",
     "output_type": "stream",
     "text": [
      "\n",
      "KeyboardInterrupt\n",
      "\n"
     ]
    }
   ],
   "source": [
    "import tensorflow as tf\n",
    "from tensorflow.keras.applications import VGG16\n",
    "from tensorflow.keras.layers import Dense, GlobalAveragePooling2D\n",
    "from tensorflow.keras.models import Model\n",
    "import matplotlib.pyplot as plt\n",
    "\n",
    "# Load pre-trained VGG16 model (excluding top layers)\n",
    "base_model = VGG16(weights='imagenet', include_top=False, input_shape=(48, 48, 3))\n",
    "\n",
    "# Add custom classification layers on top of the pre-trained base\n",
    "x = base_model.output\n",
    "x = GlobalAveragePooling2D()(x)\n",
    "x = Dense(128, activation='relu')(x)\n",
    "predictions = Dense(num_classes, activation='softmax')(x)\n",
    "\n",
    "# Create the final model\n",
    "model = Model(inputs=base_model.input, outputs=predictions)\n",
    "\n",
    "# Freeze layers in the pre-trained base model\n",
    "for layer in base_model.layers:\n",
    "    layer.trainable = False\n",
    "\n",
    "# Compile the model\n",
    "model.compile(optimizer='adam', loss='categorical_crossentropy', metrics=['accuracy'])\n",
    "\n",
    "# Train the model\n",
    "batch_size = 32\n",
    "epochs = 10\n",
    "\n",
    "history = model.fit(X_train, y_train_cat, batch_size=batch_size, epochs=epochs, validation_data=(X_test, y_test_cat))\n"
   ]
  },
  {
   "cell_type": "code",
   "execution_count": 181,
   "id": "6df0a887-0653-480e-a274-d486d2c93d92",
   "metadata": {},
   "outputs": [
    {
     "name": "stdout",
     "output_type": "stream",
     "text": [
      "225/225 [==============================] - 146s 648ms/step - loss: 1.4712 - accuracy: 0.4351\n",
      "Test loss: 1.4712\n",
      "Test accuracy: 0.4351\n"
     ]
    }
   ],
   "source": [
    "loss, accuracy = model.evaluate(X_test, y_test_cat)\n",
    "print(f\"Test loss: {loss:.4f}\")\n",
    "print(f\"Test accuracy: {accuracy:.4f}\")"
   ]
  },
  {
   "cell_type": "code",
   "execution_count": 182,
   "id": "7b2c94d3-02aa-41a3-8d9b-cec79d432e05",
   "metadata": {},
   "outputs": [
    {
     "ename": "NameError",
     "evalue": "name 'history' is not defined",
     "output_type": "error",
     "traceback": [
      "\u001b[1;31m---------------------------------------------------------------------------\u001b[0m",
      "\u001b[1;31mNameError\u001b[0m                                 Traceback (most recent call last)",
      "Input \u001b[1;32mIn [182]\u001b[0m, in \u001b[0;36m<cell line: 4>\u001b[1;34m()\u001b[0m\n\u001b[0;32m      2\u001b[0m plt\u001b[38;5;241m.\u001b[39mfigure(figsize\u001b[38;5;241m=\u001b[39m(\u001b[38;5;241m12\u001b[39m, \u001b[38;5;241m6\u001b[39m))\n\u001b[0;32m      3\u001b[0m plt\u001b[38;5;241m.\u001b[39msubplot(\u001b[38;5;241m1\u001b[39m, \u001b[38;5;241m2\u001b[39m, \u001b[38;5;241m1\u001b[39m)\n\u001b[1;32m----> 4\u001b[0m plt\u001b[38;5;241m.\u001b[39mplot(\u001b[43mhistory\u001b[49m\u001b[38;5;241m.\u001b[39mhistory[\u001b[38;5;124m'\u001b[39m\u001b[38;5;124maccuracy\u001b[39m\u001b[38;5;124m'\u001b[39m], label\u001b[38;5;241m=\u001b[39m\u001b[38;5;124m'\u001b[39m\u001b[38;5;124maccuracy\u001b[39m\u001b[38;5;124m'\u001b[39m)\n\u001b[0;32m      5\u001b[0m plt\u001b[38;5;241m.\u001b[39mplot(history\u001b[38;5;241m.\u001b[39mhistory[\u001b[38;5;124m'\u001b[39m\u001b[38;5;124mval_accuracy\u001b[39m\u001b[38;5;124m'\u001b[39m], label\u001b[38;5;241m=\u001b[39m\u001b[38;5;124m'\u001b[39m\u001b[38;5;124mval_accuracy\u001b[39m\u001b[38;5;124m'\u001b[39m)\n\u001b[0;32m      6\u001b[0m plt\u001b[38;5;241m.\u001b[39mlegend()\n",
      "\u001b[1;31mNameError\u001b[0m: name 'history' is not defined"
     ]
    },
    {
     "data": {
      "image/png": "[encoded data removed]",
      "text/plain": [
       "<Figure size 864x432 with 1 Axes>"
      ]
     },
     "metadata": {
      "needs_background": "light"
     },
     "output_type": "display_data"
    }
   ],
   "source": [
    "# Plot accuracy and loss curves\n",
    "plt.figure(figsize=(12, 6))\n",
    "plt.subplot(1, 2, 1)\n",
    "plt.plot(history.history['accuracy'], label='accuracy')\n",
    "plt.plot(history.history['val_accuracy'], label='val_accuracy')\n",
    "plt.legend()\n",
    "plt.title('Accuracy')"
   ]
  },
  {
   "cell_type": "code",
   "execution_count": null,
   "id": "716e99a7-b89e-4f25-bcbf-1603c93d5f23",
   "metadata": {},
   "outputs": [],
   "source": []
  }
 ],
 "metadata": {
  "kernelspec": {
   "display_name": "Python 3 (ipykernel)",
   "language": "python",
   "name": "python3"
  },
  "language_info": {
   "codemirror_mode": {
    "name": "ipython",
    "version": 3
   },
   "file_extension": ".py",
   "mimetype": "text/x-python",
   "name": "python",
   "nbconvert_exporter": "python",
   "pygments_lexer": "ipython3",
   "version": "3.9.12"
  }
 },
 "nbformat": 4,
 "nbformat_minor": 5
}
